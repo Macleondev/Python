{
 "cells": [
  {
   "cell_type": "code",
   "execution_count": 2,
   "id": "354e79d9-2070-4cf1-b774-1b2c7c9f735b",
   "metadata": {},
   "outputs": [],
   "source": [
    "#Making a basic Bokeh line graph\n",
    "\n",
    "#Importing Bokeh\n",
    "from bokeh.plotting import figure\n",
    "from bokeh.io import output_file, show\n",
    "\n",
    "#prepare some data\n",
    "x=[1,2,3,4,5]\n",
    "y=[6,7,8,9,10]\n",
    "\n",
    "#prepare the output file\n",
    "output_file(\"Line.html\")\n",
    "#Create a figure object\n",
    "f=figure()\n",
    "\n",
    "#Create line plot\n",
    "f.line(x,y)\n",
    "#Write the plot in the figure object\n",
    "show(f)"
   ]
  },
  {
   "cell_type": "code",
   "execution_count": 5,
   "id": "8fec3ca1-f889-4490-b251-84c7f1a5191e",
   "metadata": {},
   "outputs": [
    {
     "name": "stderr",
     "output_type": "stream",
     "text": [
      "BokehDeprecationWarning: 'triangle() method' was deprecated in Bokeh 3.4.0 and will be removed, use \"scatter(marker='triangle', ...) instead\" instead.\n"
     ]
    }
   ],
   "source": [
    "#Prepare some data\n",
    "a=[3,7.5,10]\n",
    "b=[3,6,9]\n",
    "#Prepare the output file\n",
    "output_file(\"Triangle.html\")\n",
    "#Create a figure object\n",
    "f=figure()\n",
    "#Create a Triangle plot\n",
    "f.triangle(x,y)\n",
    "#Write the plot in the figure object\n",
    "show(f)"
   ]
  },
  {
   "cell_type": "code",
   "execution_count": null,
   "id": "4b77c5bc-463f-4e7a-8262-4f08e943547d",
   "metadata": {},
   "outputs": [],
   "source": [
    "#Prepare some data\n",
    "a=[3,7.5,10]\n",
    "b=[3,6,9]\n",
    "#Prepare the output file\n",
    "output_file(\"Circle.html\")\n",
    "#Create a figure object\n",
    "f=figure()\n",
    "#Create a Triangle plot\n",
    "f.circle(x,y)\n",
    "#Write the plot in the figure object\n",
    "show(f)"
   ]
  }
 ],
 "metadata": {
  "kernelspec": {
   "display_name": "Python 3 (ipykernel)",
   "language": "python",
   "name": "python3"
  },
  "language_info": {
   "codemirror_mode": {
    "name": "ipython",
    "version": 3
   },
   "file_extension": ".py",
   "mimetype": "text/x-python",
   "name": "python",
   "nbconvert_exporter": "python",
   "pygments_lexer": "ipython3",
   "version": "3.13.3"
  }
 },
 "nbformat": 4,
 "nbformat_minor": 5
}
